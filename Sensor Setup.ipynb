{
 "cells": [
  {
   "cell_type": "markdown",
   "metadata": {},
   "source": [
    "# Light Sensor"
   ]
  },
  {
   "cell_type": "markdown",
   "metadata": {},
   "source": [
    "Load the base overlay, worth noting when done in the full version of our code this step is not neccesary as a custom overlay was designed in simulink"
   ]
  },
  {
   "cell_type": "code",
   "execution_count": null,
   "metadata": {},
   "outputs": [],
   "source": [
    "from pynq.overlays.base import BaseOverlay\n",
    "base = BaseOverlay(\"base.bit\")"
   ]
  },
  {
   "cell_type": "markdown",
   "metadata": {},
   "source": [
    "Connect peripheral components to the board, firstly connect the Pynq Grove Adapter to PMODB. Secondly connect GROVE ADC port J1 (SCL,SDA, VCC, GND) to port G4 on the Grove Adapter. Lastly ensure the Grove ALS is wired up to port J2 of the GROVE ADC (GND, VCC, NC, SIG).\n",
    "\n",
    "GROVE ADC provides a raw sample to start off with, this is then converted into a resistance value which is further converted into a temperature value. \n",
    "\n",
    "The light sensor must be connected to an ADC. As it is an analogue component and the PMOD grove adapter requires digital outputs."
   ]
  },
  {
   "cell_type": "code",
   "execution_count": null,
   "metadata": {},
   "outputs": [],
   "source": [
    "from pynq.lib.pmod import Grove_Light\n",
    "from pynq.lib.pmod import PMOD_GROVE_G4 # Import constants\n",
    "\n",
    "lgt = Grove_Light(base.PMODB, PMOD_GROVE_G4)"
   ]
  },
  {
   "cell_type": "markdown",
   "metadata": {},
   "source": [
    "This section of code is used for giving the readings a variable and to also print a value to the screen to give a good idea of the value of the first point."
   ]
  },
  {
   "cell_type": "code",
   "execution_count": null,
   "metadata": {},
   "outputs": [],
   "source": [
    "sensor_val = lgt.read()\n",
    "print(sensor_val)"
   ]
  },
  {
   "cell_type": "markdown",
   "metadata": {},
   "source": [
    "Log the sensor value for every 100ms,this value gives us plenty of readings over the ten seconds the sensor is run for. Covering and uncovering the light sensor will vary the measured signal. taking a reading every 100ms for 10s gives us 100 readings. Its worth noting that the ADC gives a delay of 47us on the readings. So say for example we took a reading of 10ms over 10s we would recieve 953 readings not 1000.\n",
    "\n",
    "r_log is a list of values. We call upon the variable lgt many times here, where lgt was described in a previous section of code as being the value the light sensor is giving off.\n",
    "\n",
    "As can be seen in the section of code the multiple temperature values are read over a 10 second period.\n",
    "\n",
    "To change the light intensity, cover and uncover the light sensor. In typical ambient light, there is no need to provide an external light source, as the sensor is already reading at full scale."
   ]
  },
  {
   "cell_type": "code",
   "execution_count": null,
   "metadata": {},
   "outputs": [],
   "source": [
    "import time\n",
    "\n",
    "lgt.set_log_interval_ms(100)\n",
    "lgt.start_log()\n",
    "time.sleep(10)\n",
    "r_log = lgt.get_log()"
   ]
  },
  {
   "cell_type": "markdown",
   "metadata": {},
   "source": [
    "using values for min and max and the length of the list a plot can be made for the sensor values"
   ]
  },
  {
   "cell_type": "code",
   "execution_count": null,
   "metadata": {},
   "outputs": [],
   "source": [
    "%matplotlib inline\n",
    "import matplotlib.pyplot as plt\n",
    "\n",
    "plt.plot(range(len(r_log)), r_log, 'ro')\n",
    "plt.title('Grove Light Sensor Plot')\n",
    "min_r_log = min(r_log)\n",
    "max_r_log = max(r_log)\n",
    "plt.axis([0, len(r_log), min_r_log, max_r_log])\n",
    "plt.show()"
   ]
  },
  {
   "cell_type": "markdown",
   "metadata": {},
   "source": [
    "calling the variable in this manner allows the list of values to be viewed"
   ]
  },
  {
   "cell_type": "code",
   "execution_count": null,
   "metadata": {},
   "outputs": [],
   "source": [
    "r_log"
   ]
  },
  {
   "cell_type": "markdown",
   "metadata": {},
   "source": [
    "this function allows us to see the amount of values that are contained within the list"
   ]
  },
  {
   "cell_type": "code",
   "execution_count": null,
   "metadata": {},
   "outputs": [],
   "source": [
    "len(r_log)"
   ]
  },
  {
   "cell_type": "markdown",
   "metadata": {},
   "source": [
    "Using analysis techniques the probability of a number turning up can be tested. This is done for the purposes or using numerical values to try and detect which number is the most random. it can be tricky to say how random a number truly is. So a Gaussian plot is made with probability values on the y axis, if the peak for the probability value is lower was can determine there is lower probability of numbers re-occuring meaning that the number can be considered more random.\n",
    "\n",
    "Math and statistics libraries were called upon as they made the whole process more simple. These values were considered when it came to the final sensor selection.\n",
    "\n",
    "A multiple of 100 was put across the x-axis to show the values and the shape produced better. "
   ]
  },
  {
   "cell_type": "code",
   "execution_count": null,
   "metadata": {},
   "outputs": [],
   "source": [
    "import math\n",
    "import statistics #library that gives us a standard deviation function\n",
    "\n",
    "for i in range (0, len(r_log)):\n",
    "    r_log[i] *= 100            #loop for range of list of values, multiplication\n",
    "\n",
    "pi = 3.14159265359\n",
    "sigma = statistics.stdev(r_log) #standard deviation value\n",
    "total = 0\n",
    "r_log.sort() #puts values from lowest to highest\n",
    "\n",
    "for i in range(0, len(r_log)):\n",
    "    total += r_log[i]          # obtaining the total value for all readings in the list\n",
    "\n",
    "i = 0\n",
    "mu = total/len(r_log) # mean is the total values in the list divided by how many variables are in the list\n",
    "a = 1/((math.sqrt(2*pi))*sigma) #a is the value prior to the exponetial function.\n",
    "        \n",
    "prob_r_log = [] #creating an empty array to plot new graph with the changed values\n",
    "\n",
    "for i in range(0, 100000): #how large the graph is, varies from sensor to sensor\n",
    "    prob_r_log.insert(i, a*math.exp((-1)*(((i - mu)**2)/(2*(sigma**2))))) #filling in empty array with values relative to the \n",
    "                                                                          #probability density function equation\n",
    "plt.plot(range(100000), prob_r_log, 'ro') #range\n",
    "plt.title('Gaussian Test Plot') #plot title\n",
    "min_prob_r_log = 0 #minimum value\n",
    "max_prob_r_log = max(prob_r_log) #maximum value\n",
    "plt.axis([0, 70000, min_prob_r_log, max_prob_r_log]) #size of the axis\n",
    "plt.show() #showing the output plot"
   ]
  },
  {
   "cell_type": "markdown",
   "metadata": {},
   "source": [
    "# Temperature Sensor"
   ]
  },
  {
   "cell_type": "code",
   "execution_count": null,
   "metadata": {},
   "outputs": [],
   "source": [
    "from pynq.overlays.base import BaseOverlay\n",
    "base = BaseOverlay(\"base.bit\")"
   ]
  },
  {
   "cell_type": "markdown",
   "metadata": {},
   "source": [
    "Connect peripheral components to the board, firstly connect the Pynq Grove Adapter to PMODA. Secondly connect GROVE ADC port J1 (SCL,SDA, VCC, GND) to port G4 on the Grove Adapter. Lastly ensure the Grove ALS is wired up to port J2 of the GROVE ADC (GND, VCC, NC, SIG).\n",
    "\n",
    "GROVE ADC provides a raw sample to start off with, this is then converted into a resistance value which is further converted into a temperature value. The resistance of a thermistor will increase as the ambient room temperature decreases. The range of temperature the component can detect is from -40 - 125 degrees celsius. this has a 1.5 error to be considered within this range.\n",
    "\n",
    "The temperature sensor must be connected to an ADC. As it is an analogue component and the PMOD grove adapter requires digital output to operate."
   ]
  },
  {
   "cell_type": "code",
   "execution_count": null,
   "metadata": {},
   "outputs": [],
   "source": [
    "import math\n",
    "from pynq.lib.pmod import Grove_TMP\n",
    "from pynq.lib.pmod import PMOD_GROVE_G3 # import constants\n",
    "\n",
    "# Grove2pmod is connected to PMODA (2)\n",
    "# Grove ADC is connected to G3 (pins [6,2])\n",
    "tmp = Grove_TMP(base.PMODA, PMOD_GROVE_G3)"
   ]
  },
  {
   "cell_type": "markdown",
   "metadata": {},
   "source": [
    "code snippet designed to give a measured value and format a value:"
   ]
  },
  {
   "cell_type": "code",
   "execution_count": null,
   "metadata": {},
   "outputs": [],
   "source": [
    "temperature = tmp.read()\n",
    "print(float(\"{0:.2f}\".format(temperature)),'degree Celsius')"
   ]
  },
  {
   "cell_type": "markdown",
   "metadata": {},
   "source": [
    "Log the sensor value for every 100ms,this gives us 100 readings total over 10s. The value does not change greatly in ambient room conditions, making it an unideal choice for random number generation as the numbers are incredibly linear. Unless the sensor was to be put in a system which varied temperature greatly, however the more systematic a number generation is the less random it becomes.\n",
    "\n",
    "tmp_log is a list of values. We call upon the variable tmp several times, where tmp was described as the value of the resistance increasing or decreasing in the thermistor then given as a temperature reading."
   ]
  },
  {
   "cell_type": "code",
   "execution_count": null,
   "metadata": {},
   "outputs": [],
   "source": [
    "import time\n",
    "ms_delay = 100\n",
    "delay_s = 10\n",
    "tmp.set_log_interval_ms(ms_delay)\n",
    "tmp.start_log()\n",
    "time.sleep(delay_s) # Change input during this time\n",
    "tmp_log = tmp.get_log()"
   ]
  },
  {
   "cell_type": "markdown",
   "metadata": {},
   "source": [
    "Using maximum and minimum values with the matplotlib library scatter graphs with the readings are simply made"
   ]
  },
  {
   "cell_type": "code",
   "execution_count": null,
   "metadata": {},
   "outputs": [],
   "source": [
    "%matplotlib inline\n",
    "import matplotlib.pyplot as plt\n",
    "plt.plot(range(len(tmp_log)), tmp_log, 'ro')\n",
    "plt.title('Grove Temperature Plot')\n",
    "min_tmp_log = min(tmp_log)\n",
    "max_tmp_log = max(tmp_log)\n",
    "plt.axis([0, len(tmp_log), min_tmp_log, max_tmp_log])\n",
    "plt.show()"
   ]
  },
  {
   "cell_type": "markdown",
   "metadata": {},
   "source": [
    "same probability test as done for the previous sensor. This gives us another graph for us to compare probability values to try and give numerical evidence aswell as empirical evidence for which sensor has the most truly random values and the least user input\n",
    "\n",
    "the multiplier range and the range of values across the x-axis is also greatly varied"
   ]
  },
  {
   "cell_type": "code",
   "execution_count": null,
   "metadata": {},
   "outputs": [],
   "source": [
    "import math\n",
    "import statistics #library that gives us a standard deviation function\n",
    "\n",
    "for i in range (0, len(tmp_log)):\n",
    "    tmp_log[i] *= 100000       #loop for range of list of values, multiplication\n",
    "\n",
    "pi = 3.14159265359\n",
    "sigma = statistics.stdev(tmp_log) #standard deviation value\n",
    "total = 0\n",
    "tmp_log.sort() #puts values from lowest to highest\n",
    "\n",
    "for i in range(0, len(tmp_log)):\n",
    "    total += tmp_log[i] # obtaining the total value for all readings in the list\n",
    "\n",
    "i = 0\n",
    "mu = total/len(tmp_log) # mean is the total values in the list divided by how many variables are in the list\n",
    "a = 1/((math.sqrt(2*pi))*sigma) #a is the value prior to the exponetial function.\n",
    "        \n",
    "prob_tmp_log = [] #creating an empty array to plot new graph with the changed values\n",
    "\n",
    "for i in range(0, 100000): #how large the graph is, varies from sensor to sensor\n",
    "    prob_tmp_log.insert(i, a*math.exp((-1)*(((i - mu)**2)/(2*(sigma**2))))) #filling in empty array with values relative to the \n",
    "                                                                            #probability density function equation\n",
    "plt.plot(range(100000), prob_tmp_log, 'ro') #range\n",
    "plt.title('Gaussian Test Plot') #plot title\n",
    "min_prob_tmp_log = 0 #min value\n",
    "max_prob_tmp_log = max(prob_tmp_log) #max value\n",
    "plt.axis([2400, 3000, min_prob_tmp_log, max_prob_tmp_log]) #axis range\n",
    "plt.show() #show output plot"
   ]
  },
  {
   "cell_type": "markdown",
   "metadata": {},
   "source": [
    "# Sound Sensor"
   ]
  },
  {
   "cell_type": "markdown",
   "metadata": {},
   "source": [
    "Import the standard overlay, this changes in the final notebook where a custom overlay was used."
   ]
  },
  {
   "cell_type": "code",
   "execution_count": null,
   "metadata": {},
   "outputs": [],
   "source": [
    "from pynq.overlays.base import BaseOverlay\n",
    "base = BaseOverlay(\"base.bit\")"
   ]
  },
  {
   "cell_type": "markdown",
   "metadata": {},
   "source": [
    "Calling the PMOD grove adapter and ADC library. No pre-existing library existed for the sound sensor, so the ADC library was used and was succesful in converting the analogue output signal from the device and converting it into readable values. The sound sensor has a simple microphone that detects sound intensity in an ambient environment. \n",
    "\n",
    "Worth noting that the sound sensor gave multiple zero values. In the final notebook as loop was written to remove these values."
   ]
  },
  {
   "cell_type": "code",
   "execution_count": null,
   "metadata": {},
   "outputs": [],
   "source": [
    "import math\n",
    "from pynq.lib.pmod import Grove_ADC\n",
    "from pynq.lib.pmod import PMOD_GROVE_G3 # Import constants\n",
    "\n",
    "# Grove2pmod is connected to PMODB (2)\n",
    "# Grove ADC is connected to G3 (pins [6,2])\n",
    "snd = Grove_ADC(base.PMODB, PMOD_GROVE_G3)"
   ]
  },
  {
   "cell_type": "markdown",
   "metadata": {},
   "source": [
    "creating a variable for the read values given fromt the sensor, also printing a singular value"
   ]
  },
  {
   "cell_type": "code",
   "execution_count": null,
   "metadata": {},
   "outputs": [],
   "source": [
    "snd_val = snd.read()\n",
    "print(snd_val)"
   ]
  },
  {
   "cell_type": "markdown",
   "metadata": {},
   "source": [
    "with a 10ms delay over a 10s reading 1000 results should be recorded. Bearing in mind that there is a 47us delay on the ADC readings of analogue values, 953 readings are taken in total over the time."
   ]
  },
  {
   "cell_type": "code",
   "execution_count": null,
   "metadata": {},
   "outputs": [],
   "source": [
    "import time \n",
    "ms_delay = 10\n",
    "delay_s = 10\n",
    "snd.set_log_interval_ms(ms_delay)\n",
    "snd.start_log()\n",
    "time.sleep(delay_s)\n",
    "snd_log = snd.get_log()"
   ]
  },
  {
   "cell_type": "markdown",
   "metadata": {},
   "source": [
    "Plotting the values of the sound sensor, using max, min and matplotlib library."
   ]
  },
  {
   "cell_type": "code",
   "execution_count": null,
   "metadata": {},
   "outputs": [],
   "source": [
    "%matplotlib inline\n",
    "import matplotlib.pyplot as plt\n",
    "plt.plot(range(len(snd_log)), snd_log, 'ro')\n",
    "plt.title('Grove Sound Plot')\n",
    "min_snd_log = min(snd_log)\n",
    "max_snd_log = max(snd_log)\n",
    "plt.axis([0, len(snd_log), min_snd_log, max_snd_log])\n",
    "plt.show()"
   ]
  },
  {
   "cell_type": "markdown",
   "metadata": {},
   "source": [
    "removing the numerous zero values from the list"
   ]
  },
  {
   "cell_type": "code",
   "execution_count": null,
   "metadata": {},
   "outputs": [],
   "source": [
    "limit = len(snd_log)\n",
    "\n",
    "for i in range(limit):\n",
    "    while (i<limit):\n",
    "        if (snd_log[i] == 0.0): #if a value in the list equals zero\n",
    "            snd_log.remove(snd_log[i]) #remove value from the list\n",
    "            limit = limit -1 #decrease the size of the limit\n",
    "            continue\n",
    "    \n",
    "        i = i+1"
   ]
  },
  {
   "cell_type": "markdown",
   "metadata": {},
   "source": [
    "plot again with removed zeroes"
   ]
  },
  {
   "cell_type": "code",
   "execution_count": null,
   "metadata": {},
   "outputs": [],
   "source": [
    "%matplotlib inline\n",
    "import matplotlib.pyplot as plt\n",
    "plt.plot(range(len(snd_log)), snd_log, 'ro')\n",
    "plt.title('Grove Sound Plot')\n",
    "min_snd_log = min(snd_log)\n",
    "max_snd_log = max(snd_log)\n",
    "plt.axis([0, len(snd_log), min_snd_log, max_snd_log])\n",
    "plt.show()"
   ]
  },
  {
   "cell_type": "markdown",
   "metadata": {},
   "source": [
    "Probability plot once again to compare how often numbers re-occur within the sensor readings and also the lower the probability the increased chance the number can be called random."
   ]
  },
  {
   "cell_type": "code",
   "execution_count": null,
   "metadata": {
    "scrolled": true
   },
   "outputs": [],
   "source": [
    "import math\n",
    "import statistics #library that gives us a standard deviation function\n",
    "\n",
    "for i in range (0, len(snd_log)): #len functions shows how many variables are in a list\n",
    "    snd_log[i] *= 100 #multiplatication is simply to make the graph looks nicer\n",
    "\n",
    "pi = 3.14159265359\n",
    "sigma = statistics.stdev(snd_log) #standard deviation function\n",
    "total = 0 #starting the value at zero\n",
    "snd_log.sort() #puts list into values starting from lowest to highest\n",
    "\n",
    "for i in range(0, len(snd_log)): #from range of 0 to how many variables are in the lsit\n",
    "    total += snd_log[i] #obtains total value of all the variables together in the sound readings list\n",
    "\n",
    "i = 0\n",
    "mu = total/len(snd_log) #value for mean\n",
    "a = 1/((math.sqrt(2*pi))*sigma) #value for pre exponetial value\n",
    "        \n",
    "prob_snd_log = [] #empty arrray to be filled with appropriate values\n",
    "\n",
    "for i in range(0, 100000):\n",
    "    prob_snd_log.insert(i, a*math.exp((-1)*(((i - mu)**2)/(2*(sigma**2))))) #filling empty array with values\n",
    "\n",
    "plt.plot(range(100000), prob_snd_log, 'ro') #size of range\n",
    "plt.title('Gaussian Test Plot') #title name\n",
    "min_prob_snd_log = 0 #min value\n",
    "max_prob_snd_log = max(prob_snd_log) #max value\n",
    "plt.axis([0, 100, min_prob_snd_log, max_prob_snd_log]) #axis plot\n",
    "plt.show() #graph display"
   ]
  },
  {
   "cell_type": "markdown",
   "metadata": {},
   "source": [
    "# OLED Example"
   ]
  },
  {
   "cell_type": "markdown",
   "metadata": {},
   "source": [
    "Import peripherals"
   ]
  },
  {
   "cell_type": "code",
   "execution_count": null,
   "metadata": {},
   "outputs": [],
   "source": [
    "from pynq.lib.pmod import Grove_OLED\n",
    "from pynq.lib.pmod import PMOD_GROVE_G4\n",
    "#connect to PMODA\n",
    "pmod_oled = Grove_OLED(base.PMODA, PMOD_GROVE_G4)"
   ]
  },
  {
   "cell_type": "markdown",
   "metadata": {},
   "source": [
    "using the clear commands wipes the screen of any previous text.\n",
    "The write command allows text to be written onto the screen."
   ]
  },
  {
   "cell_type": "code",
   "execution_count": null,
   "metadata": {},
   "outputs": [],
   "source": [
    "pmod_oled.clear()\n",
    "pmod_oled.write('Random Number Generation EE315 Digital Project')"
   ]
  },
  {
   "cell_type": "code",
   "execution_count": null,
   "metadata": {},
   "outputs": [],
   "source": [
    "pmod_oled.clear()\n",
    "pmod_oled.write('James Wilcox\\n   Calum Parker\\n   Nicholas Smith')"
   ]
  },
  {
   "cell_type": "code",
   "execution_count": null,
   "metadata": {},
   "outputs": [],
   "source": [
    "pmod_oled.clear()"
   ]
  }
 ],
 "metadata": {
  "kernelspec": {
   "display_name": "Python 3",
   "language": "python",
   "name": "python3"
  },
  "language_info": {
   "codemirror_mode": {
    "name": "ipython",
    "version": 3
   },
   "file_extension": ".py",
   "mimetype": "text/x-python",
   "name": "python",
   "nbconvert_exporter": "python",
   "pygments_lexer": "ipython3",
   "version": "3.6.5"
  }
 },
 "nbformat": 4,
 "nbformat_minor": 2
}
