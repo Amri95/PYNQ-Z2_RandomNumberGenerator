{
 "cells": [
  {
   "cell_type": "markdown",
   "metadata": {},
   "source": [
    "# Further VHDL and FPGA Design - Project"
   ]
  },
  {
   "cell_type": "markdown",
   "metadata": {},
   "source": [
    "# Random Number Generation - Software"
   ]
  },
  {
   "cell_type": "markdown",
   "metadata": {},
   "source": [
    "There are several methods to generate pseudorandom numbers using Python. These functions are not purely random, as over a long enough period of time they may seem to begin to repeat their seemingly random sequences."
   ]
  },
  {
   "cell_type": "markdown",
   "metadata": {},
   "source": [
    "The most basic example of this is the random() function, that will generate a random number betweeen 0 and 1."
   ]
  },
  {
   "cell_type": "code",
   "execution_count": null,
   "metadata": {},
   "outputs": [],
   "source": [
    "import random as r\n",
    "import matplotlib.pyplot as plt\n",
    "\n",
    "print(r.random())"
   ]
  },
  {
   "cell_type": "markdown",
   "metadata": {},
   "source": [
    "This can be used to creat a uniform random distribution, as shown below, for random numbers between 1 and 100:"
   ]
  },
  {
   "cell_type": "code",
   "execution_count": null,
   "metadata": {},
   "outputs": [],
   "source": [
    "numbers = [] \n",
    "totalNums = 1000000\n",
    "\n",
    "for i in range(totalNums):\n",
    "    numbers.append(r.randint(0, 255))    \n",
    "\n",
    "plt.hist(numbers)\n",
    "plt.xlabel(\"Number\")\n",
    "plt.ylabel(\"Frequency\")"
   ]
  },
  {
   "cell_type": "markdown",
   "metadata": {},
   "source": [
    "The distribution above shows that the numbers being generated are very close to random, with each number being generated a similar number of times."
   ]
  },
  {
   "cell_type": "markdown",
   "metadata": {},
   "source": [
    "A similar method can be used to generate random numbers within a Gaussian distribution."
   ]
  },
  {
   "cell_type": "code",
   "execution_count": null,
   "metadata": {
    "scrolled": true
   },
   "outputs": [],
   "source": [
    "numbers = [] \n",
    "totalNums = 100000\n",
    "\n",
    "for i in range(totalNums):\n",
    "    numbers.append(r.gauss(0, 1))    \n",
    "\n",
    "plt.hist(numbers, bins = 50)\n",
    "plt.xlabel(\"Number\")\n",
    "plt.ylabel(\"Frequency\")"
   ]
  },
  {
   "cell_type": "markdown",
   "metadata": {},
   "source": [
    "A Pareto distribution can also be achieved using the same method"
   ]
  },
  {
   "cell_type": "code",
   "execution_count": null,
   "metadata": {
    "scrolled": true
   },
   "outputs": [],
   "source": [
    "totalNumbers = 100000\n",
    "\n",
    "numbers = [0] * totalNumbers\n",
    "\n",
    "freq= [0]*101\n",
    "\n",
    "for i in range(totalNumbers):\n",
    "    numbers[i] = int(r.paretovariate(0.1))\n",
    "\n",
    "for i in range(101):\n",
    "    freq[i] = numbers.count(i)\n",
    "\n",
    "plt.bar(range(0, 101), freq, width = 1)\n",
    "plt.xlabel(\"Number\")\n",
    "plt.ylabel(\"Frequency\")"
   ]
  },
  {
   "cell_type": "code",
   "execution_count": null,
   "metadata": {},
   "outputs": [],
   "source": []
  }
 ],
 "metadata": {
  "kernelspec": {
   "display_name": "Python 3",
   "language": "python",
   "name": "python3"
  },
  "language_info": {
   "codemirror_mode": {
    "name": "ipython",
    "version": 3
   },
   "file_extension": ".py",
   "mimetype": "text/x-python",
   "name": "python",
   "nbconvert_exporter": "python",
   "pygments_lexer": "ipython3",
   "version": "3.6.5"
  }
 },
 "nbformat": 4,
 "nbformat_minor": 2
}
