{
 "cells": [
  {
   "cell_type": "markdown",
   "metadata": {},
   "source": [
    "# Further VHDL and FPGA Design - Project"
   ]
  },
  {
   "cell_type": "markdown",
   "metadata": {},
   "source": [
    "# Random Number Generation"
   ]
  },
  {
   "cell_type": "markdown",
   "metadata": {},
   "source": [
    "## Contents\n",
    "\n",
    "* [Seed Generation](#Seed-Generation)\n",
    "\n",
    "* [Hardware Generated Random Numbers](#Harware-Generated-Random-Numbers)\n",
    "\n",
    "* [Software Generated Random Numbers](#Software-Generated-Random-Numbers)\n",
    "\n",
    "* [Applications of Random Numbers](#Applications-of-Random-Numbers)\n",
    "    \n",
    "    * [Password Generator](#Password-Generator)\n",
    "    \n",
    "    * [Cipher Generator](#Cipher-Generator)"
   ]
  },
  {
   "cell_type": "markdown",
   "metadata": {},
   "source": [
    "## Setup\n",
    "\n",
    "To setup the PYNQ board for this project, the following steps must be taken before running code:\n",
    "\n",
    "* Connect the Grove Light Sensor to port G4 on the PMOD adaptor, and then plug the PMOD adaptor into the PMOD A port.\n",
    "* Connect the Grove OLED Display to port G3 on the PMOD adaptor, and then plug the PMOD adaptor into the PMOD B port.\n",
    "* Run the code below to import all the required libraries:"
   ]
  },
  {
   "cell_type": "code",
   "execution_count": null,
   "metadata": {},
   "outputs": [],
   "source": [
    "#Libraries Needed\n",
    "import random as r\n",
    "import matplotlib.pyplot as plt\n",
    "import time\n",
    "import math\n",
    "import string\n",
    "from ipywidgets import *\n",
    "from pynq import Overlay\n",
    "from pynq.lib.pmod import Grove_Light\n",
    "from pynq.lib.pmod import Grove_OLED\n",
    "from pynq.lib.pmod import PMOD_GROVE_G3\n",
    "from pynq.lib.pmod import PMOD_GROVE_G4 \n",
    "from pynq.overlays.base import BaseOverlay\n",
    "from IPython.display import display\n",
    "base = BaseOverlay(\"base_new.bit\")"
   ]
  },
  {
   "cell_type": "markdown",
   "metadata": {},
   "source": [
    "## Seed Generation"
   ]
  },
  {
   "cell_type": "markdown",
   "metadata": {},
   "source": [
    "When generating random numbers, a seed is required. This seed can be any number, but the seed determines the sequence of random numbers, so generating the seed in an unpredicatable fashion is crucial to secure random numbers. "
   ]
  },
  {
   "cell_type": "markdown",
   "metadata": {},
   "source": [
    "In this case, we use a light sensor connected to the PMOD A slot on the PYNQ board to generate a spread of values from the ambient light, and then pick one of the values at random, using the built in random function, which is seeded from the current time."
   ]
  },
  {
   "cell_type": "code",
   "execution_count": null,
   "metadata": {},
   "outputs": [],
   "source": [
    "lgt = Grove_Light(base.PMODA, PMOD_GROVE_G4)\n",
    "\n",
    "ms_delay = 100\n",
    "delay_s = 10\n",
    "lgt.set_log_interval_ms(ms_delay)\n",
    "lgt.start_log()\n",
    "time.sleep(delay_s) # change input during this time\n",
    "lgt_log = lgt.get_log()\n",
    "\n",
    "\n",
    "limit = len(lgt_log)\n",
    "\n",
    "index = r.randrange(0, len(lgt_log))\n",
    "seedInt = lgt_log[index] * 100\n",
    "\n",
    "seedInt = int(seedInt)\n",
    "\n",
    "print('Seed is', seedInt)"
   ]
  },
  {
   "cell_type": "markdown",
   "metadata": {},
   "source": [
    "The seed is then displayed on the OLED screen connected to PMOD B"
   ]
  },
  {
   "cell_type": "code",
   "execution_count": null,
   "metadata": {},
   "outputs": [],
   "source": [
    "#connect to PMODB\n",
    "pmod_oled = Grove_OLED(base.PMODB, PMOD_GROVE_G3)\n",
    "\n",
    "pmod_oled.clear()\n",
    "pmod_oled.write('Seed is ' + str(seedInt))"
   ]
  },
  {
   "cell_type": "markdown",
   "metadata": {},
   "source": [
    "## Hardware Generated Random Numbers"
   ]
  },
  {
   "cell_type": "markdown",
   "metadata": {},
   "source": [
    "A custom IP block was created in System Generator to generate random numbers using the programmable logic on the PYNQ board. The design for this is shown below in Figure 1:\n",
    "\n",
    "![](./Uniform_32Bit/images/SimulinkModel.PNG)\n",
    "<center>_Figure 1: Simulink Model_</center><br>"
   ]
  },
  {
   "cell_type": "markdown",
   "metadata": {},
   "source": [
    "The ports to connect to the hardware design are then setup, as shown below:"
   ]
  },
  {
   "cell_type": "code",
   "execution_count": null,
   "metadata": {},
   "outputs": [],
   "source": [
    "enable = 0x0C\n",
    "load = 0x08\n",
    "seed = 0x00\n",
    "reset = 0x04\n",
    "rand = 0x10\n",
    "values = []\n",
    "\n",
    "LFSR = base.uniform_0\n",
    "LFSR.write(reset, 1)      \n",
    "LFSR.write(reset, 0)                  # Unassert reset pin\n",
    "LFSR.write(enable, 1)                 # Allow LFSR to operate\n",
    "LFSR.write(load, 1)                   # Load seed int LFSR block\n",
    "LFSR.write(seed, seedInt)   \n",
    "LFSR.write(load, 0)    "
   ]
  },
  {
   "cell_type": "markdown",
   "metadata": {},
   "source": [
    "The user is then prompted for the amount of numbers to be generated, and then the hardware design is used to generate the random numbers."
   ]
  },
  {
   "cell_type": "code",
   "execution_count": null,
   "metadata": {},
   "outputs": [],
   "source": [
    "totalNums_t = input('How many random numbers to be generated? \\n')\n",
    "totalNums = int(totalNums_t)\n",
    "\n",
    "start = time.time()\n",
    "\n",
    "for i in range(totalNums):               # Generate values\n",
    "    values.append(LFSR.read(rand))    # append values to values array\n",
    "    \n",
    "timer_hw = time.time() - start\n",
    "\n",
    "print(totalNums, 'random numbers generated. This took ', timer_hw, 'seconds.')\n",
    "\n",
    "plt.hist(values)\n",
    "plt.xlabel('Value')\n",
    "plt.ylabel('Occurrence')\n",
    "plt.title('Histogram')\n"
   ]
  },
  {
   "cell_type": "markdown",
   "metadata": {},
   "source": [
    "## Software Generated Random Numbers"
   ]
  },
  {
   "cell_type": "markdown",
   "metadata": {},
   "source": [
    "Using functions in the random library within Python, random numbers can also be generated using software. The code below shows the generation of the same amount of random numbers as the hardware generation, using the same seed provided by the external peripherals. "
   ]
  },
  {
   "cell_type": "code",
   "execution_count": null,
   "metadata": {
    "scrolled": true
   },
   "outputs": [],
   "source": [
    "numbers = [] \n",
    "r.seed(seedInt)\n",
    "\n",
    "start = time.time()\n",
    "\n",
    "for i in range(totalNums):\n",
    "    numbers.append(r.randint(0, 255))    \n",
    "    \n",
    "timer_sw = time.time() - start\n",
    "print(totalNums, 'random numbers generated.\\nThis took', timer_sw, 'seconds, compared to', timer_hw, 'seconds for hardware generation')\n",
    "\n",
    "plt.hist(numbers)\n",
    "plt.xlabel(\"Number\")\n",
    "plt.ylabel(\"Frequency\")"
   ]
  },
  {
   "cell_type": "markdown",
   "metadata": {},
   "source": [
    "## Applications of Random Numbers"
   ]
  },
  {
   "cell_type": "markdown",
   "metadata": {},
   "source": [
    "### Password Generator"
   ]
  },
  {
   "cell_type": "markdown",
   "metadata": {},
   "source": [
    "One possible application of random number generation is the generation of secure passwords, allowing secure passwords to be suggested when making new accounts for websites."
   ]
  },
  {
   "cell_type": "code",
   "execution_count": null,
   "metadata": {},
   "outputs": [],
   "source": [
    "pmod_oled = Grove_OLED(base.PMODB, PMOD_GROVE_G3)\n",
    "\n",
    "Lowercase = True\n",
    "Uppercase = True\n",
    "Numbers = True\n",
    "Symbols = True\n",
    "\n",
    "def PassOptions(Lowercase, Uppercase, Numbers, Symbols):\n",
    "    if Lowercase == True:\n",
    "        a = string.ascii_lowercase\n",
    "    if Lowercase == False:\n",
    "        a = ''\n",
    "    if Uppercase == True:\n",
    "        b = string.ascii_uppercase\n",
    "    if Uppercase == False:\n",
    "        b = ''\n",
    "    if Numbers == True:\n",
    "        c = string.digits\n",
    "    if Numbers == False:\n",
    "        c = ''\n",
    "    if Symbols == True:\n",
    "        d = string.punctuation\n",
    "    if Symbols == False:\n",
    "        d = ''\n",
    "    \n",
    "    e = a+b+c+d\n",
    "    return e\n",
    "        \n",
    "\n",
    "def gen(Length, Lowercase, Uppercase, Numbers, Symbols):\n",
    "    password = [' '] * Length\n",
    "    \n",
    "    options = PassOptions(Lowercase, Uppercase, Numbers, Symbols)\n",
    "    lim = len(options)\n",
    "    \n",
    "    for i in range(Length):\n",
    "        password[i] = options[r.randrange(0, lim)]\n",
    "    finalPassword = ''.join(password)\n",
    "    print('Your Password Is: ',finalPassword)\n",
    "    pmod_oled.clear()\n",
    "    pmod_oled.write('Your Password Is\\n '+ finalPassword)\n",
    "    \n",
    "    \n",
    "    \n",
    "Length=widgets.IntSlider(min=1,max=24,step=1,value=12)\n",
    "\n",
    "interact(gen, Lowercase=True, Length=Length,  Uppercase=True, Numbers=True, Symbols=True);"
   ]
  },
  {
   "cell_type": "markdown",
   "metadata": {},
   "source": [
    "### Cipher Generator"
   ]
  },
  {
   "cell_type": "markdown",
   "metadata": {},
   "source": [
    "A cipher is a method of cryptography where the characters in a sentence are assigned a number (in this case their ASCII values), and then each number is shifted along by a set amount. This can be made more secure by using a set of randomly generated numbers, and using the same seed to encrypt and decrypt them."
   ]
  },
  {
   "cell_type": "code",
   "execution_count": null,
   "metadata": {},
   "outputs": [],
   "source": [
    "def cipher(message, key, mode):\n",
    "    output = \"\"\n",
    "    shift = []\n",
    "    r.seed(key)\n",
    "    for i in range(len(message)):\n",
    "        shift.append(r.randrange(0, 123))\n",
    "    \n",
    "    if mode == 'Decrypt':\n",
    "        for i in range(len(message)):\n",
    "            letter = message[i]\n",
    "            output += chr(ord(letter) - shift[i])\n",
    "            \n",
    "    if mode == 'Encrypt':\n",
    "        for i in range(len(message)):\n",
    "            letter = message[i]\n",
    "            output += chr(ord(letter) + shift[i])\n",
    "        \n",
    "    print('\\n', (mode+'ed'), 'Message: ',output)\n",
    "    \n",
    "message = widgets.Text(value='', placeholder='Enter Secret Message', description='Message:', disabled=False)\n",
    "key = widgets.BoundedIntText(value=6, min=0, max=10000, step=1, description='Key', disabled=False)\n",
    "mode = widgets.ToggleButtons( options=['Encrypt', 'Decrypt'], description='Select Mode:', disabled=False)\n",
    "interact(cipher, message = message, key = key, mode = mode)"
   ]
  }
 ],
 "metadata": {
  "kernelspec": {
   "display_name": "Python 3",
   "language": "python",
   "name": "python3"
  },
  "language_info": {
   "codemirror_mode": {
    "name": "ipython",
    "version": 3
   },
   "file_extension": ".py",
   "mimetype": "text/x-python",
   "name": "python",
   "nbconvert_exporter": "python",
   "pygments_lexer": "ipython3",
   "version": "3.6.5"
  }
 },
 "nbformat": 4,
 "nbformat_minor": 2
}
